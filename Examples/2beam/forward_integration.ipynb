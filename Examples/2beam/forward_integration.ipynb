{
 "cells": [
  {
   "cell_type": "markdown",
   "metadata": {},
   "source": [
    "### Generate the flavor evolution through the Sun, using as the matter potential the electron number density as a function of radius (Bahcall's BS05 solar model).  (2021nov10)."
   ]
  },
  {
   "cell_type": "code",
   "execution_count": 7,
   "metadata": {},
   "outputs": [],
   "source": [
    "import scipy as sp\n",
    "import numpy as np\n",
    "from scipy.integrate import odeint\n",
    "from scipy.special import exp10\n",
    "import matplotlib.pyplot as plt\n",
    "import math\n",
    "import matplotlib\n",
    "import cmath\n",
    "import random\n",
    "import os\n",
    "\n",
    "%matplotlib inline"
   ]
  },
  {
   "cell_type": "code",
   "execution_count": 8,
   "metadata": {},
   "outputs": [
    {
     "name": "stdout",
     "output_type": "stream",
     "text": [
      "bahcall radial step: 0.00041\n",
      "1.97326979e-16 4.540163412371666e-43\n",
      "n_e: first and last= 6.206015603419852e+40 6.94724897185644e+38\n",
      "nuFlux_Be7: first and last= 1.89e-06 1.732e-16\n",
      "number of radial locations: 1219\n",
      "mixing angle: 0.5837630475986898\n",
      "51219\n",
      "50010\n"
     ]
    }
   ],
   "source": [
    "'Load the electron number density as a function of solar radius (n_e(r))-- this is output from Bahcalls model.'\n",
    "'The equations of motion for flavor evolution will then take n_e(r) to be the matter potential term.'\n",
    "#data = np.loadtxt('../solarNeutrinoModel/output_solarModel_bahcall.txt')\n",
    "data = np.loadtxt('output_solarModel_Bahcall.txt')\n",
    "print('bahcall radial step:', data[0,0])\n",
    "\n",
    "'Define a bunch of parameters:'\n",
    "N_A = 6.023e+23  # Avogadro's number\n",
    "cl = 2.99792458e+5  # Speed of light in km/s\n",
    "hbarc = 1.97326979e-16  # hbar*c in MeV.km\n",
    "# n_e = N_A*exp10(data[:,2])*hbarc**3  # column of electron number densities (in MeV^3)\n",
    "# Rsun = 6.957e+10/hbarc  # Radius of sun in MeV\n",
    "# Gf = 1.166 * 10.**(-11) # Fermi coupling constant MeV**{-2}\n",
    "\n",
    "n_e = N_A*exp10(data[:,2])*(1.0e+5)**3  # column of electron number densities (in km^{-3})\n",
    "Rsun = 6.957e+5  # Radius of sun in km\n",
    "Gf = 1.166 * 10.**(-11)*(hbarc)**2 # Fermi coupling constant in km^2\n",
    "print(hbarc, Gf)\n",
    "\n",
    "nestep = data[0,0]*Rsun\n",
    "\n",
    "nuFlux_Be7 = data[:,10]   # column of Be7 channel\n",
    "print('n_e: first and last=', n_e[0], n_e[-1])\n",
    "print('nuFlux_Be7: first and last=', nuFlux_Be7[0], nuFlux_Be7[-1])\n",
    "print('number of radial locations:', len(n_e))\n",
    "\n",
    "print('mixing angle:', np.arcsin(np.sqrt(0.846))/2)  # according to amol's: sin**2(2theta) = 0.846 (+/- 0.021)\n",
    "\n",
    "'''Add more entries to n_e so that I can increase the number of steps and not worry about the file being too short.'''\n",
    "n_e_more = n_e[len(n_e)-1]*np.ones(50000)\n",
    "print(len(n_e)+len(n_e_more))\n",
    "\n",
    "neTot = []\n",
    "tot = len(n_e)+len(n_e_more)\n",
    "i = 0\n",
    "while i < len(n_e):\n",
    "    neTot.append(n_e[i])\n",
    "    i += 1\n",
    "#     while i < 50010:\n",
    "#         neTot.append(0.062)\n",
    "#         i += 1\n",
    "while i < 50010:\n",
    "    neTot.append(n_e[len(n_e)-1])\n",
    "    i += 1\n",
    "neTot = np.array(neTot)\n",
    "print(len(neTot))\n",
    "#print(neTot[-100:-1])\n",
    "np.savetxt('ne_long.txt',neTot)"
   ]
  },
  {
   "cell_type": "code",
   "execution_count": 9,
   "metadata": {},
   "outputs": [
    {
     "name": "stdout",
     "output_type": "stream",
     "text": [
      "dt: 2.8523699999999996\n",
      "mixing angle: 0.5837630475986898\n",
      "E1: 4.368383909632549e+16\n",
      "E2: 1.9460086093954744e+16\n",
      "dmsq: 1933846692847022.5\n",
      "number of locations: 121901\n"
     ]
    },
    {
     "name": "stderr",
     "output_type": "stream",
     "text": [
      "<ipython-input-9-718bc3c27904>:89: DeprecationWarning: scipy.arange is deprecated and will be removed in SciPy 2.0.0, use numpy.arange instead\n",
      "  self.times = sp.arange(0.,self.Tfinal+self.dt,self.dt)\n",
      "<ipython-input-9-718bc3c27904>:104: DeprecationWarning: scipy.column_stack is deprecated and will be removed in SciPy 2.0.0, use numpy.column_stack instead\n",
      "  sp.savetxt('%s/sim_%s.txt' % (self.path, self.label),sp.column_stack((self.times,self.sim)))\n",
      "<ipython-input-9-718bc3c27904>:104: DeprecationWarning: scipy.savetxt is deprecated and will be removed in SciPy 2.0.0, use numpy.savetxt instead\n",
      "  sp.savetxt('%s/sim_%s.txt' % (self.path, self.label),sp.column_stack((self.times,self.sim)))\n",
      "<ipython-input-9-718bc3c27904>:105: DeprecationWarning: scipy.savetxt is deprecated and will be removed in SciPy 2.0.0, use numpy.savetxt instead\n",
      "  sp.savetxt('%s/times_%s.txt' % (self.path, self.label), self.times)\n",
      "<ipython-input-9-718bc3c27904>:106: DeprecationWarning: scipy.savetxt is deprecated and will be removed in SciPy 2.0.0, use numpy.savetxt instead\n",
      "  sp.savetxt('%s/P1x_%s.txt' % (self.path, self.label),self.sim[:,0])\n",
      "<ipython-input-9-718bc3c27904>:107: DeprecationWarning: scipy.savetxt is deprecated and will be removed in SciPy 2.0.0, use numpy.savetxt instead\n",
      "  sp.savetxt('%s/P1y_%s.txt' % (self.path, self.label),self.sim[:,1])\n",
      "<ipython-input-9-718bc3c27904>:108: DeprecationWarning: scipy.savetxt is deprecated and will be removed in SciPy 2.0.0, use numpy.savetxt instead\n",
      "  sp.savetxt('%s/P1z_%s.txt' % (self.path, self.label),self.sim[:,2])\n",
      "<ipython-input-9-718bc3c27904>:109: DeprecationWarning: scipy.savetxt is deprecated and will be removed in SciPy 2.0.0, use numpy.savetxt instead\n",
      "  sp.savetxt('%s/P2x_%s.txt' % (self.path, self.label),self.sim[:,3])\n",
      "<ipython-input-9-718bc3c27904>:110: DeprecationWarning: scipy.savetxt is deprecated and will be removed in SciPy 2.0.0, use numpy.savetxt instead\n",
      "  sp.savetxt('%s/P2y_%s.txt' % (self.path, self.label),self.sim[:,4])\n",
      "<ipython-input-9-718bc3c27904>:111: DeprecationWarning: scipy.savetxt is deprecated and will be removed in SciPy 2.0.0, use numpy.savetxt instead\n",
      "  sp.savetxt('%s/P2z_%s.txt' % (self.path, self.label),self.sim[:,5])\n",
      "<ipython-input-9-718bc3c27904>:112: DeprecationWarning: scipy.savetxt is deprecated and will be removed in SciPy 2.0.0, use numpy.savetxt instead\n",
      "  sp.savetxt('%s/r_%s.txt' % (self.path, self.label),self.sim[:,6])\n",
      "<ipython-input-9-718bc3c27904>:113: DeprecationWarning: scipy.savetxt is deprecated and will be removed in SciPy 2.0.0, use numpy.savetxt instead\n",
      "  sp.savetxt('%s/Vmatt_%s.txt' % (self.path, self.label), self.Vmarr)\n",
      "No handles with labels found to put in legend.\n"
     ]
    },
    {
     "data": {
      "image/png": "[encoded data removed]",
      "text/plain": [
       "<Figure size 432x288 with 3 Axes>"
      ]
     },
     "metadata": {
      "needs_background": "light"
     },
     "output_type": "display_data"
    },
    {
     "name": "stderr",
     "output_type": "stream",
     "text": [
      "No handles with labels found to put in legend.\n"
     ]
    },
    {
     "data": {
      "image/png": "[encoded data removed]",
      "text/plain": [
       "<Figure size 432x288 with 3 Axes>"
      ]
     },
     "metadata": {
      "needs_background": "light"
     },
     "output_type": "display_data"
    },
    {
     "name": "stderr",
     "output_type": "stream",
     "text": [
      "<ipython-input-9-718bc3c27904>:175: MatplotlibDeprecationWarning: Adding an axes using the same arguments as a previous axes currently reuses the earlier instance.  In a future version, a new instance will always be created and returned.  Meanwhile, this warning can be suppressed, and the future behavior ensured, by passing a unique label to each axes instance.\n",
      "  plt.subplot(111)\n"
     ]
    },
    {
     "data": {
      "image/png": "[encoded data removed]",
      "text/plain": [
       "<Figure size 432x288 with 1 Axes>"
      ]
     },
     "metadata": {
      "needs_background": "light"
     },
     "output_type": "display_data"
    },
    {
     "name": "stderr",
     "output_type": "stream",
     "text": [
      "<ipython-input-9-718bc3c27904>:185: MatplotlibDeprecationWarning: Adding an axes using the same arguments as a previous axes currently reuses the earlier instance.  In a future version, a new instance will always be created and returned.  Meanwhile, this warning can be suppressed, and the future behavior ensured, by passing a unique label to each axes instance.\n",
      "  plt.subplot(111)\n"
     ]
    },
    {
     "data": {
      "image/png": "[encoded data removed]",
      "text/plain": [
       "<Figure size 432x288 with 1 Axes>"
      ]
     },
     "metadata": {
      "needs_background": "light"
     },
     "output_type": "display_data"
    }
   ],
   "source": [
    "class network:\n",
    "    def __init__(self):\n",
    "        \n",
    "        self.Date = '22jan25'  \n",
    "        self.scaleFactor = 1. # To multiply matter potential.  Generally we just want this to be 1.\n",
    "        self.Escale = 10. # To multiply the energies. Once we add the other beams, we can turn this back to 1.\n",
    "                    # For now, we're artificially making it 10 because we're not yet using enough beams.\n",
    "        self.FEWER = 1. # IF this value is less than 1, it means that we take fewer steps. For the \n",
    "                    # real experiments, we want this to be 1.\n",
    "\n",
    "        '''Define initial conditions on flavor:'''\n",
    "        self.Pz_1_init = 1. \n",
    "        self.Pz_2_init = 1.  \n",
    "\n",
    "        self.path = ('VmattNonzero_kmUnits/allPoints/giveInitialization_withoutVmatt')\n",
    "        if not os.path.exists(self.path):\n",
    "            os.mkdir(self.path)\n",
    "        self.label = ''\n",
    "    \n",
    "        '''Set ICs for the state variables: [P1,P2,P3,P4,P5,P6,r]\n",
    "        OPTION 1: Begin from r=0:'''\n",
    "        self.init = [0., 0., self.Pz_1_init, 0., 0., self.Pz_2_init, 0.]     \n",
    "\n",
    "        '''Set discretization.'''\n",
    "        self.dt = 1.0e-2*nestep # relative to Bahcall; units of R_sun.  \n",
    "        print('dt:', self.dt)\n",
    "        self.Tfinal = self.FEWER*self.dt*1219.*1.0e2 # integration window = step * number of steps.\n",
    "\n",
    "        '''Define mixing angle, energies, delta m**2, G_f:'''\n",
    "        self.theta = np.arcsin(np.sqrt(0.846))/2. \n",
    "        print('mixing angle:', self.theta)\n",
    "        self.E1 = self.Escale*8.62*10**-1/hbarc # km^-1 \n",
    "        self.E2 = self.Escale*3.84*10**-1/hbarc # km^-1\n",
    "        print('E1:', self.E1)\n",
    "        print('E2:', self.E2)\n",
    "\n",
    "        self.dmsq = 7.53*10**(-17)/hbarc**2 # km^-2\n",
    "        print('dmsq:', self.dmsq)\n",
    "        \n",
    "        self.delta_vac1 = self.dmsq/(2*self.E1) # km^-1.  delta m**2/(2E)\n",
    "        self.delta_vac2 = self.dmsq/(2*self.E2) # km^-1\n",
    "        \n",
    "        '''Load n_e column from Bahcall'''\n",
    "#        self.inj1 = np.loadtxt('ne_long.txt')  # This is artificially longer, to cover more than 1219 steps if desired.\n",
    "#        self.injScale = 1.  \n",
    "#        self.injdt = self.dt # one-to-one injection:step\n",
    "\n",
    "        \n",
    "    '''Piecewise linear interpolation, so that we can \"inject\" the model with Bahcalls n_e(r):'''\n",
    "    def Iinj(self, t, Ivalue, step): \n",
    "        idx = int(t/step)\n",
    "        if idx == t/step:\n",
    "            return Ivalue[idx]\n",
    "        else:\n",
    "            slope = (Ivalue[idx+1]-Ivalue[idx])/step               \n",
    "            return Ivalue[idx] + slope*(t-idx*step)    \n",
    "        \n",
    "    '''Define matter potential, which takes the \"injection\" of n_e(r):'''\n",
    "    # V_matter depends on the n_e(r) from Bahcall's paper, and the parameter G_f defined above: \n",
    "    def V_matter(self,t): return self.scaleFactor*np.sqrt(2.)*Gf*self.Iinj(t,neTot,nestep)    \n",
    "    \n",
    "\n",
    "    '''Define model equations of motion:'''    \n",
    "    def eqns(self,X, t): \n",
    "        P1x, P1y, P1z, P2x, P2y, P2z, r = X\n",
    "\n",
    "        ### NEUTRINO 1 at Energy 1 ###\n",
    "        dP1xdt = (self.delta_vac1*np.cos(2.0*self.theta) - self.V_matter(t))*P1y\n",
    " \n",
    "        dP1ydt = (-self.delta_vac1*np.cos(2.0*self.theta) + self.V_matter(t))*P1x \\\n",
    "                  - self.delta_vac1*np.sin(2.0*self.theta)*P1z\n",
    "op\n",
    "        dP1zdt = self.delta_vac1*np.sin(2.0*self.theta)*P1y\n",
    "        \n",
    "        ### NEUTRINO 2 at Energy 2 ###\n",
    "        dP2xdt = (self.delta_vac2*np.cos(2.0*self.theta) - self.V_matter(t))*P2y\n",
    "        \n",
    "        dP2ydt = (-self.delta_vac2*np.cos(2.0*self.theta) + self.V_matter(t))*P2x \\\n",
    "                  - self.delta_vac2*np.sin(2.0*self.theta)*P2z\n",
    "            \n",
    "        dP2zdt = self.delta_vac2*np.sin(2.0*self.theta)*P2y\n",
    "        \n",
    "        drdt = 1\n",
    "               \n",
    "        return dP1xdt, dP1ydt, dP1zdt, dP2xdt, dP2ydt, dP2zdt, drdt\n",
    "\n",
    "    def DoIt(self):\n",
    "\n",
    "        self.times = sp.arange(0.,self.Tfinal+self.dt,self.dt)\n",
    "        print('number of locations:', len(self.times))\n",
    "\n",
    "        '''JUst for plotting and saving V_matter as a function of r:'''\n",
    "        self.Vmarr = np.zeros(len(self.times))\n",
    "        j = 0\n",
    "        while j < len(self.times):\n",
    "            self.Vmarr[j] = self.V_matter(self.times[j])\n",
    "            j += 1\n",
    "            \n",
    "            \n",
    "        '''Run the simulation:'''\n",
    "        self.sim = odeint(self.eqns,self.init,self.times)  # Integrate.\n",
    "                \n",
    "        '''Save stuff:'''\n",
    "        sp.savetxt('%s/sim_%s.txt' % (self.path, self.label),sp.column_stack((self.times,self.sim)))\n",
    "        sp.savetxt('%s/times_%s.txt' % (self.path, self.label), self.times)\n",
    "        sp.savetxt('%s/P1x_%s.txt' % (self.path, self.label),self.sim[:,0])        \n",
    "        sp.savetxt('%s/P1y_%s.txt' % (self.path, self.label),self.sim[:,1])        \n",
    "        sp.savetxt('%s/P1z_%s.txt' % (self.path, self.label),self.sim[:,2])\n",
    "        sp.savetxt('%s/P2x_%s.txt' % (self.path, self.label),self.sim[:,3])        \n",
    "        sp.savetxt('%s/P2y_%s.txt' % (self.path, self.label),self.sim[:,4])        \n",
    "        sp.savetxt('%s/P2z_%s.txt' % (self.path, self.label),self.sim[:,5]) \n",
    "        sp.savetxt('%s/r_%s.txt' % (self.path, self.label),self.sim[:,6]) \n",
    "        sp.savetxt('%s/Vmatt_%s.txt' % (self.path, self.label), self.Vmarr)\n",
    "        # M does not contain Vmatt:\n",
    "#        M = sp.column_stack((self.sim[:,0],self.sim[:,1],self.sim[:,2],self.sim[:,3],self.sim[:,4],self.sim[:,5],self.sim[:,6]))\n",
    "        # M contains Vmatt:\n",
    "#        M = sp.column_stack((self.sim[:,0],self.sim[:,1],self.sim[:,2],self.sim[:,3],self.sim[:,4],self.sim[:,5],self.sim[:,6],self.Vmarr))\n",
    "#        np.savetxt('%s/init_trueSolution.dat' % (self.path),M)\n",
    "#        np.savetxt('%s/init_trueSolution_Pz1IC%0.2f_Pz2IC%0.2f_N%i.dat' % (self.path, self.Pz_1_init, self.Pz_2_init, self.Nlocations),M)    \n",
    "\n",
    "\n",
    "        '''Plot stuff:'''\n",
    "        sim = self.sim\n",
    "        times = self.times\n",
    "        ymin, ymax = -1., 1.1\n",
    "        alpha = 1.\n",
    "\n",
    "        fig0 = plt.figure(0)\n",
    "#        fig2.subplots_adjust(hspace=1.0)\n",
    "        plt.title('Neutrino 1')\n",
    "        plt.subplot(311)\n",
    "        plt.ylim((ymin,ymax))\n",
    "        plt.ylabel('Px,1', fontsize=12)\n",
    "        plt.plot(times,sim[:,0],'g')#,linestyle='dotted') \n",
    "#        plt.legend()\n",
    "        plt.subplot(312)\n",
    "        plt.ylim((ymin,ymax))\n",
    "        plt.ylabel('Py,1', fontsize=12)\n",
    "        plt.plot(times,sim[:,1],'g')#,linestyle='dotted') \n",
    "#        plt.legend()\n",
    "        plt.subplot(313)\n",
    "        plt.ylim((ymin,ymax))\n",
    "        plt.ylabel('Pz,1', fontsize=12)\n",
    "        plt.plot(times,sim[:,2],'g') \n",
    "#        plt.scatter(times,Boundaries_nu1_array,s=2,c='m',alpha=alpha,label='Measurement locations')\n",
    "        plt.legend()\n",
    "        plt.show()\n",
    "        fig0.savefig('%s/P1P2P3_%s.png' % (self.path, self.label))        \n",
    "    \n",
    "        fig1 = plt.figure(1)\n",
    "        plt.ylim([-1.5,1.5])\n",
    "#        fig3.subplots_adjust(hspace=1.0)\n",
    "        plt.title('Neutrino 2')\n",
    "        plt.subplot(311)\n",
    "        plt.ylim((ymin,ymax))\n",
    "        plt.ylabel('Px,2', fontsize=12)\n",
    "        plt.plot(times,sim[:,3],'b')#,linestyle='dotted') \n",
    "#        plt.legend()\n",
    "        plt.subplot(312)\n",
    "        plt.ylim((ymin,ymax))\n",
    "        plt.ylabel('Py,2', fontsize=12)\n",
    "        plt.plot(times,sim[:,4],'b')#,linestyle='dotted') \n",
    "#        plt.legend()\n",
    "        plt.subplot(313)\n",
    "        plt.ylim((ymin,ymax))\n",
    "        plt.ylabel('Pz,2', fontsize=12)\n",
    "        plt.plot(times,sim[:,5],'b') \n",
    "#        plt.scatter(times,Boundaries_nu2_array,s=2,c='m',alpha=alpha,label=\"Measurement locations\")\n",
    "        plt.legend()\n",
    "        plt.show()\n",
    "        fig1.savefig('%s/P4P5P6_%s.png' % (self.path, self.label))           \n",
    "\n",
    "        fig2 = plt.figure(2)\n",
    "        plt.title('Radius')\n",
    "        plt.subplot(111)\n",
    "        plt.ylabel('radius', fontsize=12)\n",
    "        plt.plot(times,sim[:,6],'b') \n",
    "#        plt.legend()\n",
    "        plt.show()\n",
    "        fig2.savefig('%s/radius_%s.png' % (self.path, self.label))    \n",
    "\n",
    "        \n",
    "        fig3 = plt.figure(3)\n",
    "        plt.title('n_e')\n",
    "        plt.subplot(111)\n",
    "        plt.ylabel('n_e', fontsize=12)\n",
    "        plt.yscale(\"log\")\n",
    "        plt.plot(times,self.Vmarr,'b') \n",
    "        plt.plot(times,np.ones_like(times)*self.delta_vac1*np.cos(2.0*self.theta))\n",
    "        plt.plot(times,np.ones_like(times)*self.delta_vac2*np.cos(2.0*self.theta))\n",
    "#        plt.legend()\n",
    "        plt.show()\n",
    "        fig3.savefig('%s/density_%s.png' % (self.path, self.label))    \n",
    "\n",
    "        \n",
    "#        fig3 = plt.figure(3)\n",
    "#        plt.title('Heaviside for neutrinospheres')\n",
    "#        plt.subplot(211)\n",
    "#        plt.ylabel('heaviside nu1')\n",
    "#        plt.plot(times,self.heaviside(self.r_nu1,self.T1,sim[:,6]),'g')\n",
    "#        plt.subplot(212)\n",
    "#        plt.ylabel('heaviside nu2')\n",
    "#        plt.plot(times,self.heaviside(self.r_nu2,self.T2,sim[:,6]),'b')\n",
    "#        plt.show()\n",
    "#        fig3.savefig('%s/heaviside_nuspheres_%s.png' % (self.path, self.label))    \n",
    "        \n",
    "if __name__ == '__main__':\n",
    "\n",
    "    net1 = network()\n",
    "    net1.DoIt()   # Run the simulation\n",
    "#    net1.plotNew()  # Plot P1, P2, P3, P4, P5, P6, r1, r2\n",
    "\n"
   ]
  },
  {
   "cell_type": "code",
   "execution_count": 1,
   "metadata": {},
   "outputs": [
    {
     "data": {
      "text/plain": [
       "1"
      ]
     },
     "execution_count": 1,
     "metadata": {},
     "output_type": "execute_result"
    }
   ],
   "source": [
    "import os\n",
    "os.system(\"cp VmattNonzero_kmUnits/allPoints/giveInitialization_withoutVmatt/P*z*_.txt %s\" %(os.getcwd()))\n",
    "os.system(\"cp VmattNonzero_kmUnits/allPoints/giveInitialization_withoutVmatt/sim_*.txt %s\" %(os.getcwd()))\n",
    "os.system(\"cp VmattNonzero_kmUnits/allPoints/giveInitialization_withoutVmatt/Vmatt_*.txt /%s\" %(os.getcwd()))\n",
    "os.system(\"cp VmattNonzero_kmUnits/allPoints/giveInitialization_withoutVmatt/r_*.txt /%s\" %(os.getcwd()))"
   ]
  },
  {
   "cell_type": "code",
   "execution_count": null,
   "metadata": {},
   "outputs": [],
   "source": []
  }
 ],
 "metadata": {
  "kernelspec": {
   "display_name": "Python 3",
   "language": "python",
   "name": "python3"
  },
  "language_info": {
   "codemirror_mode": {
    "name": "ipython",
    "version": 3
   },
   "file_extension": ".py",
   "mimetype": "text/x-python",
   "name": "python",
   "nbconvert_exporter": "python",
   "pygments_lexer": "ipython3",
   "version": "3.8.3"
  }
 },
 "nbformat": 4,
 "nbformat_minor": 1
}
